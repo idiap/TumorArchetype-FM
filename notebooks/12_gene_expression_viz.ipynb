{
 "cells": [
  {
   "cell_type": "code",
   "execution_count": null,
   "metadata": {},
   "outputs": [],
   "source": [
    "import pandas as pd\n",
    "\n",
    "import os\n",
    "\n",
    "import numpy as np\n",
    "\n",
    "import sys\n",
    "sys.path.append(\"../\")\n",
    "\n",
    "import matplotlib.pyplot as plt\n",
    "import seaborn as sns\n",
    "from digitalhistopathology.embeddings.gene_embedding import GeneEmbedding\n",
    "\n",
    "import anndata as ad\n",
    "import glob\n",
    "import scanpy as sc\n",
    "\n",
    "from digitalhistopathology.datasets.real_datasets import HER2Dataset\n",
    "import gzip\n",
    "import pickle\n",
    "\n",
    "import warnings\n",
    "warnings.filterwarnings(\"ignore\")\n",
    "\n",
    "import matplotlib\n",
    "matplotlib.rcParams[\"pdf.fonttype\"] = 42\n",
    "matplotlib.rcParams[\"ps.fonttype\"] = 42"
   ]
  },
  {
   "cell_type": "code",
   "execution_count": null,
   "metadata": {},
   "outputs": [],
   "source": [
    "emb_raw_gene = ad.read_h5ad(\"../results/molecular/filtered_normalized_gene_expression.h5ad\")\n",
    "\n",
    "\n",
    "labels = pd.read_csv(\"../results/benchmark/her2_final_without_A/uni_full_models/invasive_cancer_clustering/kmeans/uni_full_koleo_16384_prototypes/invasive_labels_5_clusters_umap_min_dist_0.001_n_neighbors_250.csv\", index_col=0)\n",
    "palette={0: 'orange', 2:'gray', 4: 'lime', 3: 'magenta', 1: 'cyan', 'not invasive': 'white'}\n",
    "\n",
    "with gzip.open('../results/compute_patches/her2_final_without_A/patches_info.pkl.gz') as f:\n",
    "    patches_info = pickle.load(f)\n",
    "    \n",
    "    \n",
    "def create_legend_gene_expression(gene_exp, mean, std):\n",
    "    if gene_exp == 0:\n",
    "        return \"Not expressed\"\n",
    "    elif gene_exp < mean - std:\n",
    "        return \"Low expression\"\n",
    "    elif gene_exp < mean + std:\n",
    "        return \"Medium expression\"\n",
    "    else:\n",
    "        return \"High expression\""
   ]
  },
  {
   "cell_type": "code",
   "execution_count": null,
   "metadata": {},
   "outputs": [],
   "source": [
    "patient ='E1'\n",
    "gene_name = \"HNRNPU\""
   ]
  },
  {
   "cell_type": "code",
   "execution_count": null,
   "metadata": {},
   "outputs": [],
   "source": [
    "gene_names = [\"ENY2\", \"TGFB1I1\"]\n",
    "\n",
    "for gene_name in gene_names:\n",
    "    for patient in [\"B1\", \"C1\", \"D1\", \"E1\", \"F1\", \"G2\", \"H1\"]:\n",
    "\n",
    "\n",
    "        print(patient)\n",
    "        #print(emb_raw_gene[emb_raw_gene.obs[\"name_origin\"] == patient].shape)\n",
    "        subset_emb = GeneEmbedding()\n",
    "        subset_emb.emb = emb_raw_gene[emb_raw_gene.obs[\"name_origin\"] == patient]\n",
    "        subset_emb.emb.obs = subset_emb.emb.obs.drop(['tumor', 'name_origin'], axis=1).merge(pd.DataFrame(patches_info), left_index=True, right_on='name')\n",
    "        subset_emb.emb.obs.set_index('name', inplace=True)\n",
    "        subset_emb.emb.obs['predicted_label'] = [labels.loc[idx, 'predicted_label'] if idx in labels.index else \"not invasive\" for idx in subset_emb.emb.obs.index]\n",
    "        subset_emb.emb.obs[gene_name] = subset_emb.emb.X[:, subset_emb.emb.var.index.get_loc(gene_name)]\n",
    "        mean = np.mean(subset_emb.emb.obs[gene_name])\n",
    "        std = np.std(subset_emb.emb.obs[gene_name])\n",
    "        # subset_emb.emb.obs[gene_name] = subset_emb.emb.obs.apply(lambda row: 'not invasive' if row['predicted_label'] == 'not invasive' else row[gene_name], axis=1)\n",
    "        subset_emb.emb.obs[gene_name] = subset_emb.emb.obs[gene_name].apply(lambda x: create_legend_gene_expression(x, mean, std))\n",
    "        subset_emb.plot_spot_location_with_color_on_origin_image(color=gene_name,\n",
    "                                                                    palette={\"Not expressed\": 'white', \"Low expression\": 'yellow', \"Medium expression\": 'orange', \"High expression\": 'red'})\n",
    "        plt.savefig(f\"../Figures/Fig4/slide_{patient}_{gene_name}_expression_new.pdf\", bbox_inches='tight')"
   ]
  }
 ],
 "metadata": {
  "kernelspec": {
   "display_name": "digitalhisto",
   "language": "python",
   "name": "python3"
  },
  "language_info": {
   "codemirror_mode": {
    "name": "ipython",
    "version": 3
   },
   "file_extension": ".py",
   "mimetype": "text/x-python",
   "name": "python",
   "nbconvert_exporter": "python",
   "pygments_lexer": "ipython3",
   "version": "3.10.13"
  }
 },
 "nbformat": 4,
 "nbformat_minor": 2
}
