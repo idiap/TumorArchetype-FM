{
 "cells": [
  {
   "cell_type": "code",
   "execution_count": null,
   "metadata": {},
   "outputs": [],
   "source": [
    "import pandas as pd\n",
    "\n",
    "import os\n",
    "\n",
    "import numpy as np\n",
    "\n",
    "import sys\n",
    "sys.path.append(\"../\")\n",
    "\n",
    "import matplotlib.pyplot as plt\n",
    "import seaborn as sns\n",
    "from digitalhistopathology.embeddings.gene_embedding import GeneEmbedding\n",
    "\n",
    "import warnings\n",
    "warnings.filterwarnings(\"ignore\")\n",
    "\n",
    "import anndata as ad\n",
    "import glob\n",
    "import scanpy as sc\n",
    "\n",
    "import gzip\n",
    "import pickle\n",
    "\n",
    "import matplotlib\n",
    "matplotlib.rcParams[\"pdf.fonttype\"] = 42\n",
    "matplotlib.rcParams[\"ps.fonttype\"] = 42"
   ]
  },
  {
   "cell_type": "code",
   "execution_count": null,
   "metadata": {},
   "outputs": [],
   "source": [
    "import json\n",
    "\n",
    "# Load configuration\n",
    "with open(\"../config/config_notebooks.json\", \"r\") as config_file:\n",
    "    config = json.load(config_file)"
   ]
  },
  {
   "cell_type": "code",
   "execution_count": null,
   "metadata": {},
   "outputs": [],
   "source": [
    "emb_raw_gene = ad.read_h5ad(\"../results/molecular/filtered_gene_expression.h5ad\")\n",
    "\n",
    "with gzip.open(config['patches_info_path']) as f:\n",
    "    patches_info = pickle.load(f)\n",
    "    \n",
    "    \n",
    "def create_legend_gene_expression(gene_exp):\n",
    "    if gene_exp == 0:\n",
    "        return \"Not expressed\"\n",
    "    elif gene_exp < 2:\n",
    "        return \"Low expression\"\n",
    "    elif gene_exp < 4:\n",
    "        return \"Medium expression\"\n",
    "    else:\n",
    "        return \"High expression\"\n"
   ]
  },
  {
   "cell_type": "code",
   "execution_count": null,
   "metadata": {},
   "outputs": [],
   "source": [
    "patches_info = pd.DataFrame(patches_info)\n"
   ]
  },
  {
   "cell_type": "code",
   "execution_count": null,
   "metadata": {},
   "outputs": [],
   "source": [
    "# UNI base \n",
    "labels = pd.read_csv(\"../results/benchmark/her2_final_without_A/base_models/invasive_cancer_clustering/kmeans/uni/invasive_labels_7_clusters_umap_min_dist_0.001_n_neighbors_10.csv\", index_col=0)\n",
    "palette={0: 'orange', 2:'gray', 4: 'lime', 3: 'magenta', 1: 'cyan', 'not invasive': 'white'}\n",
    "for patient in [\"B1\", \"C1\", \"D1\", \"E1\", \"F1\", \"G2\", \"H1\"]:\n",
    "    print(patient)\n",
    "    subset_emb = GeneEmbedding()\n",
    "    n_patches = len(patches_info[patches_info[\"name_origin\"] == patient])\n",
    "    subset_emb.emb = ad.AnnData(X=np.zeros((n_patches, 1)))\n",
    "    subset_emb.emb.obs = patches_info[patches_info[\"name_origin\"] == patient]\n",
    "    # subset_emb.emb = emb_raw_gene[emb_raw_gene.obs[\"name_origin\"] == patient]\n",
    "    # subset_emb.emb.obs = subset_emb.emb.obs.drop(['tumor', 'name_origin'], axis=1).merge(pd.DataFrame(patches_info), left_index=True, right_on='name')\n",
    "    subset_emb.emb.obs.set_index('name', inplace=True)\n",
    "    subset_emb.emb.obs['predicted_label'] = [str(labels.loc[idx, 'predicted_label']) if idx in labels.index else \"not invasive\" for idx in subset_emb.emb.obs.index]\n",
    "    \n",
    "    subset_emb.emb = subset_emb.emb[subset_emb.emb.obs[\"predicted_label\"] != \"not invasive\"]\n",
    "\n",
    "    subset_emb.plot_spot_location_with_color_on_origin_image(color='predicted_label', s=10)\n",
    "\n",
    "    plt.savefig(f\"../Figures/Fig4/slide_uni_{patient}_predicted_labels.pdf\", bbox_inches='tight')"
   ]
  },
  {
   "cell_type": "code",
   "execution_count": null,
   "metadata": {},
   "outputs": [],
   "source": [
    "palette = {'0': '#66BB46', \n",
    "           '1': \"#AD66FF\", \n",
    "           '2': \"#F9A11B\", \n",
    "           '3': '#31C4F3', \n",
    "           '4': '#ACB5B6',\n",
    "           '5': \"#965D59\",\n",
    "           '6': '#EC2A90',\n",
    "           '7': '#2F2F8E',\n",
    "           '8': \"#FFE340\"}"
   ]
  },
  {
   "cell_type": "code",
   "execution_count": null,
   "metadata": {},
   "outputs": [],
   "source": [
    "sns.palplot(sns.color_palette(palette.values()))"
   ]
  },
  {
   "cell_type": "code",
   "execution_count": null,
   "metadata": {},
   "outputs": [],
   "source": [
    "# UNI full koleo\n",
    "labels = pd.read_csv(\"../results/benchmark/her2_final_without_A/uni_full_models/invasive_cancer_clustering/kmeans/uni_full_koleo_16384_prototypes/invasive_labels_5_clusters_umap_min_dist_0.001_n_neighbors_250.csv\", index_col=0)\n",
    "palette={'0': '#F9A11B', '2': '#ACB5B6', '4': '#66BB46', '3': '#EC2A90', '1': '#31C4F3', 'not invasive': 'white'}\n",
    "for patient in [\"B1\", \"C1\", \"D1\", \"E1\", \"F1\", \"G2\", \"H1\"]:\n",
    "    print(patient)\n",
    "    subset_emb = GeneEmbedding()\n",
    "    n_patches = len(patches_info[patches_info[\"name_origin\"] == patient])\n",
    "    subset_emb.emb = ad.AnnData(X=np.zeros((n_patches, 1)))\n",
    "    subset_emb.emb.obs = patches_info[patches_info[\"name_origin\"] == patient]\n",
    "    # subset_emb.emb = emb_raw_gene[emb_raw_gene.obs[\"name_origin\"] == patient]\n",
    "    # subset_emb.emb.obs = subset_emb.emb.obs.drop(['tumor', 'name_origin'], axis=1).merge(pd.DataFrame(patches_info), left_index=True, right_on='name')\n",
    "    subset_emb.emb.obs.set_index('name', inplace=True)\n",
    "    subset_emb.emb.obs['predicted_label'] = [str(labels.loc[idx, 'predicted_label']) if idx in labels.index else \"not invasive\" for idx in subset_emb.emb.obs.index]\n",
    "    \n",
    "    subset_emb.emb = subset_emb.emb[subset_emb.emb.obs[\"predicted_label\"] != \"not invasive\"]\n",
    "\n",
    "    subset_emb.plot_spot_location_with_color_on_origin_image(color='predicted_label', s=10, palette=palette)\n",
    "\n",
    "    plt.savefig(f\"../Figures/Fig4/slide_uni_full_koleo_16384_{patient}_predicted_labels.pdf\", bbox_inches='tight')"
   ]
  }
 ],
 "metadata": {
  "kernelspec": {
   "display_name": "digitalhisto",
   "language": "python",
   "name": "python3"
  },
  "language_info": {
   "codemirror_mode": {
    "name": "ipython",
    "version": 3
   },
   "file_extension": ".py",
   "mimetype": "text/x-python",
   "name": "python",
   "nbconvert_exporter": "python",
   "pygments_lexer": "ipython3",
   "version": "3.10.13"
  }
 },
 "nbformat": 4,
 "nbformat_minor": 2
}
